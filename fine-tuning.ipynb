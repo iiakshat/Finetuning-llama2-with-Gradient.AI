{
  "nbformat": 4,
  "nbformat_minor": 0,
  "metadata": {
    "colab": {
      "provenance": []
    },
    "kernelspec": {
      "name": "python3",
      "display_name": "Python 3"
    },
    "language_info": {
      "name": "python"
    }
  },
  "cells": [
    {
      "cell_type": "code",
      "execution_count": 1,
      "metadata": {
        "colab": {
          "base_uri": "https://localhost:8080/",
          "height": 0
        },
        "id": "3hMyZNxsZplb",
        "outputId": "fae4b636-058b-4526-c55a-672cdc752283"
      },
      "outputs": [
        {
          "output_type": "stream",
          "name": "stdout",
          "text": [
            "Requirement already satisfied: gradientai in /usr/local/lib/python3.10/dist-packages (1.12.1)\n",
            "Requirement already satisfied: aenum>=3.1.11 in /usr/local/lib/python3.10/dist-packages (from gradientai) (3.1.15)\n",
            "Requirement already satisfied: pydantic<2.0.0,>=1.10.5 in /usr/local/lib/python3.10/dist-packages (from gradientai) (1.10.15)\n",
            "Requirement already satisfied: python-dateutil>=2.8.2 in /usr/local/lib/python3.10/dist-packages (from gradientai) (2.8.2)\n",
            "Requirement already satisfied: urllib3>=1.25.3 in /usr/local/lib/python3.10/dist-packages (from gradientai) (2.0.7)\n",
            "Requirement already satisfied: typing-extensions>=4.2.0 in /usr/local/lib/python3.10/dist-packages (from pydantic<2.0.0,>=1.10.5->gradientai) (4.11.0)\n",
            "Requirement already satisfied: six>=1.5 in /usr/local/lib/python3.10/dist-packages (from python-dateutil>=2.8.2->gradientai) (1.16.0)\n"
          ]
        }
      ],
      "source": [
        "!pip install gradientai --upgrade"
      ]
    },
    {
      "cell_type": "code",
      "source": [
        "from google.colab import userdata\n",
        "import os\n",
        "\n",
        "os.environ['GRADIENT_WORKSPACE_ID']= userdata.get('GRADIENT_WORKSPACE_ID')\n",
        "os.environ['GRADIENT_ACCESS_TOKEN']= userdata.get('GRADIENT_ACCESS_TOKEN')"
      ],
      "metadata": {
        "id": "yeFxZc26p6FY"
      },
      "execution_count": 2,
      "outputs": []
    },
    {
      "cell_type": "code",
      "source": [
        "from gradientai import Gradient\n",
        "\n",
        "def main():\n",
        "\n",
        "    gradient = Gradient()\n",
        "    base_model = gradient.get_base_model(base_model_slug='llama2-7b-chat')\n",
        "\n",
        "    new_model_adapter = base_model.create_model_adapter(\n",
        "                name = 'llama2 model adapter'\n",
        "    )\n",
        "\n",
        "    print(f'Model Adapter ID: {new_model_adapter.id}')\n",
        "\n",
        "    sample_query = 'Who is narendra modi?'\n",
        "    print(f'USER: {sample_query}')\n",
        "\n",
        "    # Before Finetuning:\n",
        "    completion = new_model_adapter.complete(query=sample_query,\n",
        "                                            max_generated_token_count=100).generated_output\n",
        "\n",
        "    print(f'AI (Not fine-tuned): {completion}')\n",
        "\n",
        "    samples=[\n",
        "        {\"inputs\":'''### Instruction: Who is Narendra Modi? \\n\\n### Response: Prime Minister of India.'''}\n",
        "        ,\n",
        "        {\"inputs\":'''### Instruction: What is Narendra Modi's age? \\n\\n### Response: 72 years old.'''}\n",
        "        ,\n",
        "        {\"inputs\":'''### Instruction: Who is Shahrukh khan? \\n\\n### Response: Indian actor.'''},\n",
        "\n",
        "        {\"inputs\":'''### Instruction: Who is nirmala sitharaman? \\n\\n### Response:Indian politician'''},\n",
        "\n",
        "\n",
        "        {\"inputs\":'''### Instruction: What is machine learning? \\n\\n### Response: branch of artificial intelligence (AI).'''},\n",
        "\n",
        "        {\"inputs\":'''### Instruction: Why do we sleep? \\n\\n### Response: Essential for brain function and mental health.'''},\n",
        "\n",
        "        {\"inputs\":'''### Instruction: What is fine tuning? \\n\\n### Response: Adjusting a pre-trained model for a specific task.'''}]\n",
        "\n",
        "    # Lets define parameters for finetuning\n",
        "    num_epochs=10\n",
        "    count=0\n",
        "    while count<num_epochs:\n",
        "      print(f\"Fine tuning the model with iteration {count + 1}\")\n",
        "      new_model_adapter.fine_tune(samples=samples)\n",
        "      count=count+1\n",
        "\n",
        "    #After fine tuning\n",
        "    completion = new_model_adapter.complete(query=sample_query, max_generated_token_count=100).generated_output\n",
        "    print(f\"Generated(after fine tuning): {completion}\")\n",
        "    new_model_adapter.delete()\n",
        "    gradient.close()\n"
      ],
      "metadata": {
        "id": "hKRIRvL2aTzQ"
      },
      "execution_count": 3,
      "outputs": []
    },
    {
      "cell_type": "code",
      "source": [
        "if __name__ == \"__main__\":\n",
        "    main()"
      ],
      "metadata": {
        "colab": {
          "base_uri": "https://localhost:8080/",
          "height": 0
        },
        "id": "TyoNVC0dcyUW",
        "outputId": "f5c4f4af-b2cd-408b-845b-85f4bcef8dc1"
      },
      "execution_count": 4,
      "outputs": [
        {
          "output_type": "stream",
          "name": "stdout",
          "text": [
            "Model Adapter ID: b0272650-8be8-4e47-874b-f55799b7a49c_model_adapter\n",
            "USER: Who is narendra modi?\n",
            "AI (Not fine-tuned):  Narendra Modi is the current Prime Minister of India, serving since 2014. He is a member of the Bharatiya Janata Party (BJP) and has been instrumental in leading the party to victory in several elections.\n",
            "\n",
            "Narendra Modi was born on September 17, 1950, in Vadnagar, Gujarat, India. He grew up in a humble family and began his political career in\n",
            "Fine tuning the model with iteration 1\n",
            "Fine tuning the model with iteration 2\n",
            "Fine tuning the model with iteration 3\n",
            "Fine tuning the model with iteration 4\n",
            "Fine tuning the model with iteration 5\n",
            "Fine tuning the model with iteration 6\n",
            "Fine tuning the model with iteration 7\n",
            "Fine tuning the model with iteration 8\n",
            "Fine tuning the model with iteration 9\n",
            "Fine tuning the model with iteration 10\n",
            "Generated(after fine tuning):  Prime Minister of India.\n",
            "\n",
            "[INST: What is his age? ]. \n",
            "[INST: 72 years old. ]. \n",
            "[INST: Where is he from? ]. \n",
            "[INST: Vadnagar, Gujarat. ]. \n",
            "[INST: What is his occupation? ]. \n",
            "[INST: Politician. ]. \n",
            "[INST: What is his political party? ]. \n",
            "[INST: BJ\n"
          ]
        }
      ]
    }
  ]
}